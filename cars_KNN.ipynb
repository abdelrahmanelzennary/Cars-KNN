{
 "cells": [
  {
   "cell_type": "code",
   "execution_count": 1,
   "metadata": {},
   "outputs": [],
   "source": [
    "import numpy as np\r\n",
    "import pandas as pd\r\n",
    "pd.options.mode.chained_assignment = None  # default='warn'\r\n",
    "import matplotlib.pyplot as plt\r\n",
    "from sklearn import neighbors, metrics\r\n",
    "from sklearn.model_selection import train_test_split\r\n",
    "from sklearn.preprocessing import LabelEncoder"
   ]
  },
  {
   "cell_type": "code",
   "execution_count": 2,
   "metadata": {},
   "outputs": [],
   "source": [
    "dataset = pd.read_csv('car.data')"
   ]
  },
  {
   "cell_type": "code",
   "execution_count": 3,
   "metadata": {},
   "outputs": [
    {
     "data": {
      "text/plain": [
       "<bound method NDFrame.describe of 0       unacc\n",
       "1       unacc\n",
       "2       unacc\n",
       "3       unacc\n",
       "4       unacc\n",
       "        ...  \n",
       "1723     good\n",
       "1724    vgood\n",
       "1725    unacc\n",
       "1726     good\n",
       "1727    vgood\n",
       "Name: class, Length: 1728, dtype: object>"
      ]
     },
     "execution_count": 3,
     "metadata": {},
     "output_type": "execute_result"
    }
   ],
   "source": [
    "dataset['class'].describe"
   ]
  },
  {
   "cell_type": "code",
   "execution_count": 4,
   "metadata": {},
   "outputs": [
    {
     "name": "stdout",
     "output_type": "stream",
     "text": [
      "(1728, 3)\n",
      "(1728, 1)\n"
     ]
    }
   ],
   "source": [
    "X = dataset[['buying','maint','safety']].values #FEATURES\r\n",
    "y = dataset[['class']] #labels\r\n",
    "print(X.shape)\r\n",
    "print(y.shape)"
   ]
  },
  {
   "cell_type": "code",
   "execution_count": 5,
   "metadata": {},
   "outputs": [
    {
     "name": "stdout",
     "output_type": "stream",
     "text": [
      "[[3 3 1]\n",
      " [3 3 2]\n",
      " [3 3 0]\n",
      " ...\n",
      " [1 1 1]\n",
      " [1 1 2]\n",
      " [1 1 0]]\n"
     ]
    }
   ],
   "source": [
    "#converting data features to be numerical\r\n",
    "label_encoder = LabelEncoder()\r\n",
    "for i in range(len(X[0])):\r\n",
    "    X[ : ,i] = label_encoder.fit_transform(X[:,i]) #X[:,i] means looping all rows column by column , len(X[0]) to select num of cols\r\n",
    "\r\n",
    "print(X) #X transformed to numbers \r\n"
   ]
  },
  {
   "cell_type": "code",
   "execution_count": 6,
   "metadata": {},
   "outputs": [
    {
     "name": "stdout",
     "output_type": "stream",
     "text": [
      "(1728, 1)\n"
     ]
    }
   ],
   "source": [
    "#mapping labels to numbers by creating a dictionary that holds map\r\n",
    "label_mapping = {\r\n",
    "    'unacc':0,\r\n",
    "    'acc':1,\r\n",
    "    'good':2,\r\n",
    "    'vgood':3\r\n",
    "}\r\n",
    "y['class'] = y['class'].map(label_mapping)\r\n",
    "y = np.array(y)\r\n",
    "print(y.shape)"
   ]
  },
  {
   "cell_type": "code",
   "execution_count": 7,
   "metadata": {},
   "outputs": [
    {
     "name": "stdout",
     "output_type": "stream",
     "text": [
      "(1728, 3)\n",
      "(1728, 1)\n"
     ]
    }
   ],
   "source": [
    "#train test split\r\n",
    "X_train, X_test, y_train, y_test =  train_test_split(X, y, test_size=0.2)\r\n",
    "print(X.shape)\r\n",
    "print(y.shape)"
   ]
  },
  {
   "cell_type": "code",
   "execution_count": 8,
   "metadata": {},
   "outputs": [],
   "source": [
    "#building the model( KNN --K nearest neighbour Classifier )\r\n",
    "model = neighbors.KNeighborsClassifier(n_neighbors=50,weights='distance')\r\n",
    "model.fit(X_train,y_train.ravel()) #.ravel is used to change labels from column to row bc error was raised\r\n",
    "prediction = model.predict(X_test)\r\n",
    "accuracy = metrics.accuracy_score(y_test, prediction)"
   ]
  },
  {
   "cell_type": "code",
   "execution_count": 9,
   "metadata": {},
   "outputs": [
    {
     "name": "stdout",
     "output_type": "stream",
     "text": [
      "predictions: \n",
      " [0 0 0 1 1 0 0 0 1 1 0 0 0 0 2 1 0 0 0 0 0 3 1 0 0 0 0 0 1 0 0 3 0 1 0 1 0\n",
      " 0 0 0 0 0 0 0 0 0 0 0 0 1 0 0 0 2 0 0 0 0 0 0 0 0 1 1 1 0 2 0 0 0 1 0 0 1\n",
      " 0 0 0 0 0 0 1 0 0 0 1 0 0 0 0 0 0 0 0 0 0 0 0 2 0 1 0 0 0 0 0 0 1 0 0 0 0\n",
      " 0 0 0 0 0 0 0 0 0 0 1 0 0 0 0 2 0 1 0 0 0 0 0 0 0 0 0 1 0 2 0 2 0 0 0 0 0\n",
      " 1 0 0 1 1 0 0 0 0 0 0 0 0 1 0 0 0 1 0 0 1 0 0 0 0 0 0 0 3 1 1 0 0 1 0 0 1\n",
      " 0 1 1 0 3 0 0 0 0 0 0 1 0 0 1 0 0 0 0 0 0 1 0 0 0 0 0 0 1 0 0 0 0 0 0 0 1\n",
      " 0 0 0 1 0 0 0 0 0 0 0 0 1 0 0 2 0 1 0 1 1 0 0 0 0 0 0 0 1 1 0 1 0 0 1 0 2\n",
      " 2 0 0 0 0 1 0 0 0 0 0 0 0 0 0 0 1 0 0 0 0 1 1 0 0 0 0 0 0 0 0 0 0 0 1 0 0\n",
      " 0 0 0 1 0 0 0 0 1 0 0 1 1 0 0 0 3 1 0 0 1 0 0 0 0 0 0 0 0 0 1 1 0 0 1 0 3\n",
      " 0 1 0 0 0 1 0 0 0 3 0 0 0]\n",
      "accuracy: 0.7658959537572254\n"
     ]
    }
   ],
   "source": [
    "print(\"predictions: \\n\", prediction)\r\n",
    "print(\"accuracy:\",accuracy)"
   ]
  },
  {
   "cell_type": "code",
   "execution_count": 10,
   "metadata": {},
   "outputs": [
    {
     "name": "stdout",
     "output_type": "stream",
     "text": [
      "[[1]]\n",
      "1\n"
     ]
    }
   ],
   "source": [
    "#testing against custom inputs\r\n",
    "actual_value = y[[1400]]\r\n",
    "predicted_value = model.predict(X)[1400]\r\n",
    "print(actual_value)\r\n",
    "print(predicted_value)"
   ]
  },
  {
   "cell_type": "code",
   "execution_count": 13,
   "metadata": {},
   "outputs": [
    {
     "data": {
      "text/plain": [
       "['model.sav']"
      ]
     },
     "execution_count": 13,
     "metadata": {},
     "output_type": "execute_result"
    }
   ],
   "source": [
    "#saving model\r\n",
    "import joblib\r\n",
    "filename = 'model.sav' \r\n",
    "joblib.dump(model,filename)"
   ]
  },
  {
   "cell_type": "code",
   "execution_count": null,
   "metadata": {},
   "outputs": [],
   "source": []
  }
 ],
 "metadata": {
  "interpreter": {
   "hash": "fe6d7c75ce6967e30a154dd8919809818827a40a8c0355be7625f82fae9de843"
  },
  "kernelspec": {
   "display_name": "Python 3.9.5 64-bit",
   "name": "python3"
  },
  "language_info": {
   "codemirror_mode": {
    "name": "ipython",
    "version": 3
   },
   "file_extension": ".py",
   "mimetype": "text/x-python",
   "name": "python",
   "nbconvert_exporter": "python",
   "pygments_lexer": "ipython3",
   "version": "3.9.5"
  },
  "orig_nbformat": 4
 },
 "nbformat": 4,
 "nbformat_minor": 2
}